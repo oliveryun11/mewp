{
 "cells": [
  {
   "cell_type": "code",
   "execution_count": null,
   "metadata": {},
   "outputs": [],
   "source": [
    "import pandas as pd\n",
    "from matplotlib import pyplot as plt\n",
    "import numpy as np\n",
    "a = []\n",
    "data = pd.read_csv(\"greatlakedata/clair1918.csv\", header = 2, index_col = 0) #read data\n",
    "data = data.drop([2021, 2022]) #drop years with nan values\n",
    "a.append(data.unstack().values) #unstack 2d data into one long 1d list\n",
    "data = pd.read_csv(\"greatlakedata/erie1918.csv\", header = 2, index_col = 0) #read data\n",
    "data = data.drop([2021, 2022]) #drop years with nan values\n",
    "a.append(data.unstack().values) #unstack 2d data into one long 1d list\n",
    "data = pd.read_csv(\"greatlakedata/miHuron1918.csv\", header = 2, index_col = 0) #read data\n",
    "data = data.drop([2021, 2022]) #drop years with nan values\n",
    "a.append(data.unstack().values) #unstack 2d data into one long 1d list\n",
    "data = pd.read_csv(\"greatlakedata/ontario1918.csv\", header = 2, index_col = 0) #read data\n",
    "data = data.drop([2021, 2022]) #drop years with nan values\n",
    "a.append(data.unstack().values) #unstack 2d data into one long 1d list\n",
    "data = pd.read_csv(\"greatlakedata/superior1918.csv\", header = 2, index_col = 0) #read data\n",
    "data = data.drop([2021, 2022]) #drop years with nan values\n",
    "a.append(data.unstack().values) #unstack 2d data into one long 1d list\n",
    "for j in range(len(a)):\n",
    "    data_average = np.mean(a[j]) #standardization\n",
    "    data_deviation = np.std(a[j])\n",
    "    for i in range(len(a[j])):\n",
    "        a[j][i] -= data_average\n",
    "        a[j][i] /= data_deviation\n",
    "from statsmodels.tsa.seasonal import seasonal_decompose\n",
    "for j in range(len(a)):\n",
    "    result = seasonal_decompose(a[j], model='additive', period = 100) \n",
    "    result.trend[np.logical_not(np.isnan(result.trend))]\n",
    "    a[j] = result.trend[np.logical_not(np.isnan(result.trend))]\n"
   ]
  }
 ],
 "metadata": {
  "kernelspec": {
   "display_name": "Python 3",
   "language": "python",
   "name": "python3"
  },
  "language_info": {
   "codemirror_mode": {
    "name": "ipython",
    "version": 3
   },
   "file_extension": ".py",
   "mimetype": "text/x-python",
   "name": "python",
   "nbconvert_exporter": "python",
   "pygments_lexer": "ipython3",
   "version": "3.8.3"
  }
 },
 "nbformat": 4,
 "nbformat_minor": 4
}
